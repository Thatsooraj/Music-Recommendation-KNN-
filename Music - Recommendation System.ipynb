{
 "cells": [
  {
   "cell_type": "markdown",
   "metadata": {},
   "source": [
    "# Music recommender system\n",
    "One of the most used machine learning algorithms is recommendation systems. A recommender (or recommendation) system (or engine) is a filtering system which aim is to predict a rating or preference a user would give to an item, eg. a film, a product, a song, etc.\n",
    "\n",
    "collaborative-based filters predict what a user like based on what other users, that are similar to that particular user, have liked.\n",
    "\n",
    "We have previously developed a content-based recommendation system. Now, we'll look into collaborative filtering.\n",
    "\n",
    "## Collaborative filters\n",
    "Collaborative Filters work with an interaction matrix, also called rating matrix. The aim of this algorithm is to learn a function that can predict if a user will benefit from an item - meaning the user will likely buy, listen to, watch this item.\n",
    "\n",
    "Among collaborative-based systems, we can encounter two types: user-item filtering and item-item filtering.\n",
    "\n",
    "What algorithms do collaborative filters use to recommend new songs? There are several machine learning algorithms that can be used in the case of collaborative filtering. Among them, we can mention nearest-neighbor, clustering, and matrix factorization.\n",
    "\n",
    "**K-Nearest Neighbors (kNN)** is considered the standard method when it comes to both user-based and item-based collaborative filtering approaches.\n",
    "\n",
    "We'll go through the steps for generating a music recommender system using a k-nearest algorithm approach."
   ]
  },
  {
   "cell_type": "markdown",
   "metadata": {},
   "source": [
    "# 1)  Importing required libraries\n",
    "First, we'll import all the required libraries."
   ]
  },
  {
   "cell_type": "code",
   "execution_count": 1,
   "metadata": {},
   "outputs": [],
   "source": [
    "import pandas as pd\n",
    "import numpy as np\n",
    "import matplotlib.pyplot as plt\n",
    "import seaborn as sns\n",
    "import warnings\n",
    "warnings.filterwarnings(\"ignore\", category=FutureWarning)"
   ]
  },
  {
   "cell_type": "code",
   "execution_count": 2,
   "metadata": {},
   "outputs": [],
   "source": [
    "from sklearn.metrics.pairwise import cosine_similarity\n",
    "from scipy.sparse import csr_matrix"
   ]
  },
  {
   "cell_type": "markdown",
   "metadata": {},
   "source": [
    "# 2) Reading the files\n",
    "We are going to use the **Million Song Dataset**, a freely-available collection of audio features and metadata for a million contemporary popular music tracks.\n",
    "\n",
    "There are two files that will be interesting for us. The first of them will give us information about the songs. Particularly, it contains the user ID, song ID and the listen count. On the other hand, the second file will contain song ID, title of that song, release, artist name and year. We need to merge these two DataFrames. For that aim, we'll use the song_ID\n",
    "\n"
   ]
  },
  {
   "cell_type": "code",
   "execution_count": 3,
   "metadata": {},
   "outputs": [],
   "source": [
    "#Read userid-songid-listen_count\n",
    "song_info = pd.read_csv('10000.csv',header=None)\n",
    "song_info.columns = ['user_id', 'song_id', 'listen_count']\n",
    "\n",
    "#Reading Songs Data\n",
    "song_actual =  pd.read_csv('song_data.csv')\n",
    "song_actual.drop_duplicates(['song_id'], inplace=True)\n",
    "\n",
    "#Merge the two dataframes above to create input dataframe for recommender systems\n",
    "songs = pd.merge(song_info, song_actual, on=\"song_id\", how=\"left\")"
   ]
  },
  {
   "cell_type": "code",
   "execution_count": 4,
   "metadata": {},
   "outputs": [
    {
     "data": {
      "text/html": [
       "<div>\n",
       "<style scoped>\n",
       "    .dataframe tbody tr th:only-of-type {\n",
       "        vertical-align: middle;\n",
       "    }\n",
       "\n",
       "    .dataframe tbody tr th {\n",
       "        vertical-align: top;\n",
       "    }\n",
       "\n",
       "    .dataframe thead th {\n",
       "        text-align: right;\n",
       "    }\n",
       "</style>\n",
       "<table border=\"1\" class=\"dataframe\">\n",
       "  <thead>\n",
       "    <tr style=\"text-align: right;\">\n",
       "      <th></th>\n",
       "      <th>user_id</th>\n",
       "      <th>song_id</th>\n",
       "      <th>listen_count</th>\n",
       "      <th>title</th>\n",
       "      <th>release</th>\n",
       "      <th>artist_name</th>\n",
       "      <th>year</th>\n",
       "    </tr>\n",
       "  </thead>\n",
       "  <tbody>\n",
       "    <tr>\n",
       "      <th>0</th>\n",
       "      <td>b80344d063b5ccb3212f76538f3d9e43d87dca9e</td>\n",
       "      <td>SOAKIMP12A8C130995</td>\n",
       "      <td>1</td>\n",
       "      <td>The Cove</td>\n",
       "      <td>Thicker Than Water</td>\n",
       "      <td>Jack Johnson</td>\n",
       "      <td>0</td>\n",
       "    </tr>\n",
       "    <tr>\n",
       "      <th>1</th>\n",
       "      <td>b80344d063b5ccb3212f76538f3d9e43d87dca9e</td>\n",
       "      <td>SOBBMDR12A8C13253B</td>\n",
       "      <td>2</td>\n",
       "      <td>Entre Dos Aguas</td>\n",
       "      <td>Flamenco Para Niños</td>\n",
       "      <td>Paco De Lucia</td>\n",
       "      <td>1976</td>\n",
       "    </tr>\n",
       "    <tr>\n",
       "      <th>2</th>\n",
       "      <td>b80344d063b5ccb3212f76538f3d9e43d87dca9e</td>\n",
       "      <td>SOBXHDL12A81C204C0</td>\n",
       "      <td>1</td>\n",
       "      <td>Stronger</td>\n",
       "      <td>Graduation</td>\n",
       "      <td>Kanye West</td>\n",
       "      <td>2007</td>\n",
       "    </tr>\n",
       "    <tr>\n",
       "      <th>3</th>\n",
       "      <td>b80344d063b5ccb3212f76538f3d9e43d87dca9e</td>\n",
       "      <td>SOBYHAJ12A6701BF1D</td>\n",
       "      <td>1</td>\n",
       "      <td>Constellations</td>\n",
       "      <td>In Between Dreams</td>\n",
       "      <td>Jack Johnson</td>\n",
       "      <td>2005</td>\n",
       "    </tr>\n",
       "    <tr>\n",
       "      <th>4</th>\n",
       "      <td>b80344d063b5ccb3212f76538f3d9e43d87dca9e</td>\n",
       "      <td>SODACBL12A8C13C273</td>\n",
       "      <td>1</td>\n",
       "      <td>Learn To Fly</td>\n",
       "      <td>There Is Nothing Left To Lose</td>\n",
       "      <td>Foo Fighters</td>\n",
       "      <td>1999</td>\n",
       "    </tr>\n",
       "  </tbody>\n",
       "</table>\n",
       "</div>"
      ],
      "text/plain": [
       "                                    user_id             song_id  listen_count  \\\n",
       "0  b80344d063b5ccb3212f76538f3d9e43d87dca9e  SOAKIMP12A8C130995             1   \n",
       "1  b80344d063b5ccb3212f76538f3d9e43d87dca9e  SOBBMDR12A8C13253B             2   \n",
       "2  b80344d063b5ccb3212f76538f3d9e43d87dca9e  SOBXHDL12A81C204C0             1   \n",
       "3  b80344d063b5ccb3212f76538f3d9e43d87dca9e  SOBYHAJ12A6701BF1D             1   \n",
       "4  b80344d063b5ccb3212f76538f3d9e43d87dca9e  SODACBL12A8C13C273             1   \n",
       "\n",
       "             title                        release    artist_name  year  \n",
       "0         The Cove             Thicker Than Water   Jack Johnson     0  \n",
       "1  Entre Dos Aguas            Flamenco Para Niños  Paco De Lucia  1976  \n",
       "2         Stronger                     Graduation     Kanye West  2007  \n",
       "3   Constellations              In Between Dreams   Jack Johnson  2005  \n",
       "4     Learn To Fly  There Is Nothing Left To Lose   Foo Fighters  1999  "
      ]
     },
     "execution_count": 4,
     "metadata": {},
     "output_type": "execute_result"
    }
   ],
   "source": [
    "songs.head()"
   ]
  },
  {
   "cell_type": "markdown",
   "metadata": {},
   "source": [
    "We'll save this dataset into a csv file so we have this available if there is any other recommendation system project we want to do."
   ]
  },
  {
   "cell_type": "code",
   "execution_count": 6,
   "metadata": {},
   "outputs": [],
   "source": [
    "songs.to_csv('songs1.csv', index=False)"
   ]
  },
  {
   "cell_type": "markdown",
   "metadata": {},
   "source": [
    "We can read this file into a new DataFrame that we'd call df_songs."
   ]
  },
  {
   "cell_type": "code",
   "execution_count": 7,
   "metadata": {},
   "outputs": [],
   "source": [
    "df_songs = pd.read_csv('songs1.csv')"
   ]
  },
  {
   "cell_type": "markdown",
   "metadata": {},
   "source": [
    "# 3) Exploring the data\n",
    "As usual, any data science or machine learning project starts with an exploratory data analysis (EDA). The aim of EDA is to understand and get insights on our data.\n",
    "\n",
    "We'll first inspect the first rows of our DataFrame."
   ]
  },
  {
   "cell_type": "code",
   "execution_count": 8,
   "metadata": {},
   "outputs": [
    {
     "data": {
      "text/html": [
       "<div>\n",
       "<style scoped>\n",
       "    .dataframe tbody tr th:only-of-type {\n",
       "        vertical-align: middle;\n",
       "    }\n",
       "\n",
       "    .dataframe tbody tr th {\n",
       "        vertical-align: top;\n",
       "    }\n",
       "\n",
       "    .dataframe thead th {\n",
       "        text-align: right;\n",
       "    }\n",
       "</style>\n",
       "<table border=\"1\" class=\"dataframe\">\n",
       "  <thead>\n",
       "    <tr style=\"text-align: right;\">\n",
       "      <th></th>\n",
       "      <th>user_id</th>\n",
       "      <th>song_id</th>\n",
       "      <th>listen_count</th>\n",
       "      <th>title</th>\n",
       "      <th>release</th>\n",
       "      <th>artist_name</th>\n",
       "      <th>year</th>\n",
       "    </tr>\n",
       "  </thead>\n",
       "  <tbody>\n",
       "    <tr>\n",
       "      <th>0</th>\n",
       "      <td>b80344d063b5ccb3212f76538f3d9e43d87dca9e</td>\n",
       "      <td>SOAKIMP12A8C130995</td>\n",
       "      <td>1</td>\n",
       "      <td>The Cove</td>\n",
       "      <td>Thicker Than Water</td>\n",
       "      <td>Jack Johnson</td>\n",
       "      <td>0</td>\n",
       "    </tr>\n",
       "    <tr>\n",
       "      <th>1</th>\n",
       "      <td>b80344d063b5ccb3212f76538f3d9e43d87dca9e</td>\n",
       "      <td>SOBBMDR12A8C13253B</td>\n",
       "      <td>2</td>\n",
       "      <td>Entre Dos Aguas</td>\n",
       "      <td>Flamenco Para Niños</td>\n",
       "      <td>Paco De Lucia</td>\n",
       "      <td>1976</td>\n",
       "    </tr>\n",
       "    <tr>\n",
       "      <th>2</th>\n",
       "      <td>b80344d063b5ccb3212f76538f3d9e43d87dca9e</td>\n",
       "      <td>SOBXHDL12A81C204C0</td>\n",
       "      <td>1</td>\n",
       "      <td>Stronger</td>\n",
       "      <td>Graduation</td>\n",
       "      <td>Kanye West</td>\n",
       "      <td>2007</td>\n",
       "    </tr>\n",
       "    <tr>\n",
       "      <th>3</th>\n",
       "      <td>b80344d063b5ccb3212f76538f3d9e43d87dca9e</td>\n",
       "      <td>SOBYHAJ12A6701BF1D</td>\n",
       "      <td>1</td>\n",
       "      <td>Constellations</td>\n",
       "      <td>In Between Dreams</td>\n",
       "      <td>Jack Johnson</td>\n",
       "      <td>2005</td>\n",
       "    </tr>\n",
       "    <tr>\n",
       "      <th>4</th>\n",
       "      <td>b80344d063b5ccb3212f76538f3d9e43d87dca9e</td>\n",
       "      <td>SODACBL12A8C13C273</td>\n",
       "      <td>1</td>\n",
       "      <td>Learn To Fly</td>\n",
       "      <td>There Is Nothing Left To Lose</td>\n",
       "      <td>Foo Fighters</td>\n",
       "      <td>1999</td>\n",
       "    </tr>\n",
       "  </tbody>\n",
       "</table>\n",
       "</div>"
      ],
      "text/plain": [
       "                                    user_id             song_id  listen_count  \\\n",
       "0  b80344d063b5ccb3212f76538f3d9e43d87dca9e  SOAKIMP12A8C130995             1   \n",
       "1  b80344d063b5ccb3212f76538f3d9e43d87dca9e  SOBBMDR12A8C13253B             2   \n",
       "2  b80344d063b5ccb3212f76538f3d9e43d87dca9e  SOBXHDL12A81C204C0             1   \n",
       "3  b80344d063b5ccb3212f76538f3d9e43d87dca9e  SOBYHAJ12A6701BF1D             1   \n",
       "4  b80344d063b5ccb3212f76538f3d9e43d87dca9e  SODACBL12A8C13C273             1   \n",
       "\n",
       "             title                        release    artist_name  year  \n",
       "0         The Cove             Thicker Than Water   Jack Johnson     0  \n",
       "1  Entre Dos Aguas            Flamenco Para Niños  Paco De Lucia  1976  \n",
       "2         Stronger                     Graduation     Kanye West  2007  \n",
       "3   Constellations              In Between Dreams   Jack Johnson  2005  \n",
       "4     Learn To Fly  There Is Nothing Left To Lose   Foo Fighters  1999  "
      ]
     },
     "execution_count": 8,
     "metadata": {},
     "output_type": "execute_result"
    }
   ],
   "source": [
    "df_songs.head()"
   ]
  },
  {
   "cell_type": "markdown",
   "metadata": {},
   "source": [
    "Then, we'll check how many observions there are in the dataset."
   ]
  },
  {
   "cell_type": "code",
   "execution_count": 9,
   "metadata": {},
   "outputs": [
    {
     "name": "stdout",
     "output_type": "stream",
     "text": [
      "There are 1048576 observations in the dataset\n"
     ]
    }
   ],
   "source": [
    "#Get total observations\n",
    "print(f\"There are {df_songs.shape[0]} observations in the dataset\")"
   ]
  },
  {
   "cell_type": "markdown",
   "metadata": {},
   "source": [
    "\n",
    "Now, we should perform some cleaning steps. But looking at the dataset, we can see that there is no missing values."
   ]
  },
  {
   "cell_type": "code",
   "execution_count": 10,
   "metadata": {},
   "outputs": [
    {
     "data": {
      "text/plain": [
       "user_id         0\n",
       "song_id         0\n",
       "listen_count    0\n",
       "title           0\n",
       "release         0\n",
       "artist_name     0\n",
       "year            0\n",
       "dtype: int64"
      ]
     },
     "execution_count": 10,
     "metadata": {},
     "output_type": "execute_result"
    }
   ],
   "source": [
    "df_songs.isnull().sum()"
   ]
  },
  {
   "cell_type": "code",
   "execution_count": 11,
   "metadata": {},
   "outputs": [
    {
     "data": {
      "text/plain": [
       "user_id         object\n",
       "song_id         object\n",
       "listen_count     int64\n",
       "title           object\n",
       "release         object\n",
       "artist_name     object\n",
       "year             int64\n",
       "dtype: object"
      ]
     },
     "execution_count": 11,
     "metadata": {},
     "output_type": "execute_result"
    }
   ],
   "source": [
    "df_songs.dtypes"
   ]
  },
  {
   "cell_type": "markdown",
   "metadata": {},
   "source": [
    "And most of the columns contain strings."
   ]
  },
  {
   "cell_type": "markdown",
   "metadata": {},
   "source": [
    "Let's start exploring some characteristics of the dataset:\n",
    "\n",
    "**Unique songs :**\n"
   ]
  },
  {
   "cell_type": "code",
   "execution_count": 12,
   "metadata": {},
   "outputs": [
    {
     "name": "stdout",
     "output_type": "stream",
     "text": [
      "There are 9567 unique songs in the dataset\n"
     ]
    }
   ],
   "source": [
    "#Unique songs\n",
    "unique_songs = df_songs['title'].unique().shape[0]\n",
    "print(f\"There are {unique_songs} unique songs in the dataset\")"
   ]
  },
  {
   "cell_type": "markdown",
   "metadata": {},
   "source": [
    "**Unique Artists :**"
   ]
  },
  {
   "cell_type": "code",
   "execution_count": 14,
   "metadata": {},
   "outputs": [
    {
     "name": "stdout",
     "output_type": "stream",
     "text": [
      "There are 3375 unique artists in the dataset\n"
     ]
    }
   ],
   "source": [
    "#Unique artists\n",
    "unique_artists = df_songs['artist_name'].unique().shape[0]\n",
    "print(f\"There are {unique_artists} unique artists in the dataset\")"
   ]
  },
  {
   "cell_type": "markdown",
   "metadata": {},
   "source": [
    "**Unique Users :**"
   ]
  },
  {
   "cell_type": "code",
   "execution_count": 13,
   "metadata": {},
   "outputs": [
    {
     "name": "stdout",
     "output_type": "stream",
     "text": [
      "There are 40336 unique users in the dataset\n"
     ]
    }
   ],
   "source": [
    "#Unique users\n",
    "unique_users = df_songs['user_id'].unique().shape[0]\n",
    "print(f\"There are {unique_users} unique users in the dataset\")"
   ]
  },
  {
   "cell_type": "markdown",
   "metadata": {},
   "source": [
    "We'll go ahead and explore the popularity of songs and artists."
   ]
  },
  {
   "cell_type": "markdown",
   "metadata": {},
   "source": [
    "# 4) Most popular songs\n",
    "\n",
    "How do we determine which are the most popular songs? For this task, we'll count how many times each song appears. Note that while we are using listen_count, we only care about the number of rows, we don't consider the number present in that row. This number represents how many times one user listen to the same song.\n",
    "\n"
   ]
  },
  {
   "cell_type": "code",
   "execution_count": 15,
   "metadata": {},
   "outputs": [],
   "source": [
    "#count how many rows we have by song, we show only the ten more popular songs \n",
    "ten_pop_songs = df_songs.groupby('title')['listen_count'].count().reset_index().sort_values(['listen_count', 'title'], ascending = [0,1])\n",
    "ten_pop_songs['percentage']  = round(ten_pop_songs['listen_count'].div(ten_pop_songs['listen_count'].sum())*100, 2)"
   ]
  },
  {
   "cell_type": "code",
   "execution_count": 16,
   "metadata": {},
   "outputs": [
    {
     "data": {
      "text/html": [
       "<div>\n",
       "<style scoped>\n",
       "    .dataframe tbody tr th:only-of-type {\n",
       "        vertical-align: middle;\n",
       "    }\n",
       "\n",
       "    .dataframe tbody tr th {\n",
       "        vertical-align: top;\n",
       "    }\n",
       "\n",
       "    .dataframe thead th {\n",
       "        text-align: right;\n",
       "    }\n",
       "</style>\n",
       "<table border=\"1\" class=\"dataframe\">\n",
       "  <thead>\n",
       "    <tr style=\"text-align: right;\">\n",
       "      <th></th>\n",
       "      <th>title</th>\n",
       "      <th>listen_count</th>\n",
       "      <th>percentage</th>\n",
       "    </tr>\n",
       "  </thead>\n",
       "  <tbody>\n",
       "    <tr>\n",
       "      <th>6836</th>\n",
       "      <td>Sehr kosmisch</td>\n",
       "      <td>4368</td>\n",
       "      <td>0.42</td>\n",
       "    </tr>\n",
       "    <tr>\n",
       "      <th>8725</th>\n",
       "      <td>Undo</td>\n",
       "      <td>3693</td>\n",
       "      <td>0.35</td>\n",
       "    </tr>\n",
       "    <tr>\n",
       "      <th>1964</th>\n",
       "      <td>Dog Days Are Over (Radio Edit)</td>\n",
       "      <td>3676</td>\n",
       "      <td>0.35</td>\n",
       "    </tr>\n",
       "    <tr>\n",
       "      <th>9496</th>\n",
       "      <td>You're The One</td>\n",
       "      <td>3508</td>\n",
       "      <td>0.33</td>\n",
       "    </tr>\n",
       "    <tr>\n",
       "      <th>6498</th>\n",
       "      <td>Revelry</td>\n",
       "      <td>3179</td>\n",
       "      <td>0.30</td>\n",
       "    </tr>\n",
       "    <tr>\n",
       "      <th>6825</th>\n",
       "      <td>Secrets</td>\n",
       "      <td>3051</td>\n",
       "      <td>0.29</td>\n",
       "    </tr>\n",
       "    <tr>\n",
       "      <th>3437</th>\n",
       "      <td>Horn Concerto No. 4 in E flat K495: II. Romanc...</td>\n",
       "      <td>2830</td>\n",
       "      <td>0.27</td>\n",
       "    </tr>\n",
       "    <tr>\n",
       "      <th>2595</th>\n",
       "      <td>Fireflies</td>\n",
       "      <td>2514</td>\n",
       "      <td>0.24</td>\n",
       "    </tr>\n",
       "    <tr>\n",
       "      <th>3322</th>\n",
       "      <td>Hey_ Soul Sister</td>\n",
       "      <td>2469</td>\n",
       "      <td>0.24</td>\n",
       "    </tr>\n",
       "    <tr>\n",
       "      <th>8494</th>\n",
       "      <td>Tive Sim</td>\n",
       "      <td>2402</td>\n",
       "      <td>0.23</td>\n",
       "    </tr>\n",
       "  </tbody>\n",
       "</table>\n",
       "</div>"
      ],
      "text/plain": [
       "                                                  title  listen_count  \\\n",
       "6836                                      Sehr kosmisch          4368   \n",
       "8725                                               Undo          3693   \n",
       "1964                     Dog Days Are Over (Radio Edit)          3676   \n",
       "9496                                     You're The One          3508   \n",
       "6498                                            Revelry          3179   \n",
       "6825                                            Secrets          3051   \n",
       "3437  Horn Concerto No. 4 in E flat K495: II. Romanc...          2830   \n",
       "2595                                          Fireflies          2514   \n",
       "3322                                   Hey_ Soul Sister          2469   \n",
       "8494                                           Tive Sim          2402   \n",
       "\n",
       "      percentage  \n",
       "6836        0.42  \n",
       "8725        0.35  \n",
       "1964        0.35  \n",
       "9496        0.33  \n",
       "6498        0.30  \n",
       "6825        0.29  \n",
       "3437        0.27  \n",
       "2595        0.24  \n",
       "3322        0.24  \n",
       "8494        0.23  "
      ]
     },
     "execution_count": 16,
     "metadata": {},
     "output_type": "execute_result"
    }
   ],
   "source": [
    "ten_pop_songs = ten_pop_songs[:10]\n",
    "ten_pop_songs"
   ]
  },
  {
   "cell_type": "code",
   "execution_count": 17,
   "metadata": {},
   "outputs": [],
   "source": [
    "labels = ten_pop_songs['title'].tolist()\n",
    "counts = ten_pop_songs['listen_count'].tolist()"
   ]
  },
  {
   "cell_type": "code",
   "execution_count": 18,
   "metadata": {},
   "outputs": [
    {
     "data": {
      "image/png": "[encoded data removed]",
      "text/plain": [
       "<Figure size 432x288 with 1 Axes>"
      ]
     },
     "metadata": {
      "needs_background": "light"
     },
     "output_type": "display_data"
    }
   ],
   "source": [
    "plt.figure()\n",
    "sns.barplot(x=counts, y=labels, palette='Set3')\n",
    "sns.despine(left=True, bottom=True)"
   ]
  },
  {
   "cell_type": "markdown",
   "metadata": {},
   "source": [
    "# 5) Most popular artist\n",
    "For the next task, we'll count how many times each artist appears. Again, we'll count how many times the same artist appears."
   ]
  },
  {
   "cell_type": "code",
   "execution_count": 19,
   "metadata": {},
   "outputs": [],
   "source": [
    "#count how many rows we have by artist name, we show only the ten more popular artist \n",
    "ten_pop_artists  = df_songs.groupby(['artist_name'])['listen_count'].count().reset_index().sort_values(['listen_count', \n",
    "                                                                                                        'artist_name'], \n",
    "                                                                                                ascending = [0,1])"
   ]
  },
  {
   "cell_type": "code",
   "execution_count": 20,
   "metadata": {},
   "outputs": [
    {
     "data": {
      "text/html": [
       "<div>\n",
       "<style scoped>\n",
       "    .dataframe tbody tr th:only-of-type {\n",
       "        vertical-align: middle;\n",
       "    }\n",
       "\n",
       "    .dataframe tbody tr th {\n",
       "        vertical-align: top;\n",
       "    }\n",
       "\n",
       "    .dataframe thead th {\n",
       "        text-align: right;\n",
       "    }\n",
       "</style>\n",
       "<table border=\"1\" class=\"dataframe\">\n",
       "  <thead>\n",
       "    <tr style=\"text-align: right;\">\n",
       "      <th></th>\n",
       "      <th>artist_name</th>\n",
       "      <th>listen_count</th>\n",
       "    </tr>\n",
       "  </thead>\n",
       "  <tbody>\n",
       "    <tr>\n",
       "      <th>649</th>\n",
       "      <td>Coldplay</td>\n",
       "      <td>15343</td>\n",
       "    </tr>\n",
       "    <tr>\n",
       "      <th>2850</th>\n",
       "      <td>The Black Keys</td>\n",
       "      <td>10589</td>\n",
       "    </tr>\n",
       "    <tr>\n",
       "      <th>1651</th>\n",
       "      <td>Kings Of Leon</td>\n",
       "      <td>9627</td>\n",
       "    </tr>\n",
       "    <tr>\n",
       "      <th>1107</th>\n",
       "      <td>Florence + The Machine</td>\n",
       "      <td>9524</td>\n",
       "    </tr>\n",
       "    <tr>\n",
       "      <th>1370</th>\n",
       "      <td>Jack Johnson</td>\n",
       "      <td>8726</td>\n",
       "    </tr>\n",
       "    <tr>\n",
       "      <th>2946</th>\n",
       "      <td>The Killers</td>\n",
       "      <td>8139</td>\n",
       "    </tr>\n",
       "    <tr>\n",
       "      <th>2374</th>\n",
       "      <td>Radiohead</td>\n",
       "      <td>8058</td>\n",
       "    </tr>\n",
       "    <tr>\n",
       "      <th>736</th>\n",
       "      <td>Daft Punk</td>\n",
       "      <td>7612</td>\n",
       "    </tr>\n",
       "    <tr>\n",
       "      <th>1554</th>\n",
       "      <td>Justin Bieber</td>\n",
       "      <td>7291</td>\n",
       "    </tr>\n",
       "    <tr>\n",
       "      <th>2073</th>\n",
       "      <td>Muse</td>\n",
       "      <td>7160</td>\n",
       "    </tr>\n",
       "  </tbody>\n",
       "</table>\n",
       "</div>"
      ],
      "text/plain": [
       "                 artist_name  listen_count\n",
       "649                 Coldplay         15343\n",
       "2850          The Black Keys         10589\n",
       "1651           Kings Of Leon          9627\n",
       "1107  Florence + The Machine          9524\n",
       "1370            Jack Johnson          8726\n",
       "2946             The Killers          8139\n",
       "2374               Radiohead          8058\n",
       "736                Daft Punk          7612\n",
       "1554           Justin Bieber          7291\n",
       "2073                    Muse          7160"
      ]
     },
     "execution_count": 20,
     "metadata": {},
     "output_type": "execute_result"
    }
   ],
   "source": [
    "ten_pop_artists = ten_pop_artists[:10]\n",
    "ten_pop_artists"
   ]
  },
  {
   "cell_type": "code",
   "execution_count": 21,
   "metadata": {},
   "outputs": [
    {
     "data": {
      "image/png": "[encoded data removed]",
      "text/plain": [
       "<Figure size 432x288 with 1 Axes>"
      ]
     },
     "metadata": {
      "needs_background": "light"
     },
     "output_type": "display_data"
    }
   ],
   "source": [
    "plt.figure()\n",
    "labels = ten_pop_artists['artist_name'].tolist()\n",
    "counts = ten_pop_artists['listen_count'].tolist()\n",
    "sns.barplot(x=counts, y=labels, palette='Set2')\n",
    "sns.despine(left=True, bottom=True)"
   ]
  },
  {
   "cell_type": "markdown",
   "metadata": {},
   "source": [
    "# 6) Listen Count by User\n",
    "We can also get some other information from the feature listen_count. We will answer the folloging question"
   ]
  },
  {
   "cell_type": "markdown",
   "metadata": {},
   "source": [
    "**What was the maximum time the same user listen to a same song?**"
   ]
  },
  {
   "cell_type": "code",
   "execution_count": 22,
   "metadata": {},
   "outputs": [],
   "source": [
    "listen_counts = pd.DataFrame(df_songs.groupby('listen_count').size(), columns=['count'])"
   ]
  },
  {
   "cell_type": "code",
   "execution_count": 23,
   "metadata": {},
   "outputs": [
    {
     "name": "stdout",
     "output_type": "stream",
     "text": [
      "The Max-time the same user listened the same song:920\n"
     ]
    }
   ],
   "source": [
    "print(f\"The Max-time the same user listened the same song:{listen_counts.reset_index(drop=False)['listen_count'].iloc[-1]}\")"
   ]
  },
  {
   "cell_type": "markdown",
   "metadata": {},
   "source": [
    "**How many times on average the same user listen to a same song?**"
   ]
  },
  {
   "cell_type": "code",
   "execution_count": 24,
   "metadata": {},
   "outputs": [
    {
     "name": "stdout",
     "output_type": "stream",
     "text": [
      "On average, a user listen to the same song 3.0465383529663086 times\n"
     ]
    }
   ],
   "source": [
    "print(f\"On average, a user listen to the same song {df_songs['listen_count'].mean()} times\")"
   ]
  },
  {
   "cell_type": "markdown",
   "metadata": {},
   "source": [
    "**What are the most frequent number of times a user listen to the same song?**"
   ]
  },
  {
   "cell_type": "code",
   "execution_count": 25,
   "metadata": {},
   "outputs": [],
   "source": [
    "listen_counts_temp = listen_counts[listen_counts['count'] > 50].reset_index(drop=False)"
   ]
  },
  {
   "cell_type": "code",
   "execution_count": 26,
   "metadata": {},
   "outputs": [
    {
     "name": "stdout",
     "output_type": "stream",
     "text": [
      "    listen_count   count\n",
      "0              1  595997\n",
      "1              2  164538\n",
      "2              3   75108\n",
      "3              4   43485\n",
      "4              5   48834\n",
      "..           ...     ...\n",
      "60            61      64\n",
      "61            62      53\n",
      "62            65      62\n",
      "63            66      51\n",
      "64            67      56\n",
      "\n",
      "[65 rows x 2 columns]\n"
     ]
    }
   ],
   "source": [
    "print(listen_counts_temp)"
   ]
  },
  {
   "cell_type": "markdown",
   "metadata": {},
   "source": [
    "**How many songs does a user listen in average?**"
   ]
  },
  {
   "cell_type": "code",
   "execution_count": 29,
   "metadata": {},
   "outputs": [],
   "source": [
    "song_user = df_songs.groupby('user_id')['song_id'].count()"
   ]
  },
  {
   "cell_type": "code",
   "execution_count": 30,
   "metadata": {},
   "outputs": [
    {
     "data": {
      "image/png": "[encoded data removed]",
      "text/plain": [
       "<Figure size 1152x576 with 1 Axes>"
      ]
     },
     "metadata": {
      "needs_background": "light"
     },
     "output_type": "display_data"
    }
   ],
   "source": [
    "plt.figure(figsize=(16, 8))\n",
    "sns.distplot(song_user.values, color='orange')\n",
    "plt.gca().spines['top'].set_visible(False)\n",
    "plt.gca().spines['right'].set_visible(False)\n",
    "plt.show()"
   ]
  },
  {
   "cell_type": "code",
   "execution_count": 31,
   "metadata": {},
   "outputs": [
    {
     "name": "stdout",
     "output_type": "stream",
     "text": [
      "A user listens to an average of 25.996033320111067 songs\n"
     ]
    }
   ],
   "source": [
    "print(f\"A user listens to an average of {np.mean(song_user)} songs\")"
   ]
  },
  {
   "cell_type": "code",
   "execution_count": 32,
   "metadata": {},
   "outputs": [
    {
     "name": "stdout",
     "output_type": "stream",
     "text": [
      "A user listens to an average of 16.0 songs, and maximum 711 songs\n"
     ]
    }
   ],
   "source": [
    "print(f\"A user listens to an average of {np.median(song_user)} songs, and maximum {np.max(song_user)} songs\")"
   ]
  },
  {
   "cell_type": "markdown",
   "metadata": {},
   "source": [
    "\n",
    "We can see that a user listens in average to 27 songs. Even the maximum amount of songs listen by an user is 711, and we have 9567 songs in our dataset."
   ]
  },
  {
   "cell_type": "markdown",
   "metadata": {},
   "source": [
    "# 7) Prepare The Data"
   ]
  },
  {
   "cell_type": "code",
   "execution_count": 33,
   "metadata": {},
   "outputs": [],
   "source": [
    "# Get users which have listen to at least 16 songs\n",
    "song_ten_id = song_user[song_user > 16].index.to_list()"
   ]
  },
  {
   "cell_type": "code",
   "execution_count": 34,
   "metadata": {},
   "outputs": [],
   "source": [
    "# Filtered the dataset to keep only those users with more than 16 listened\n",
    "df_song_id_more_ten = df_songs[df_songs['user_id'].isin(song_ten_id)].reset_index(drop=True)"
   ]
  },
  {
   "cell_type": "markdown",
   "metadata": {},
   "source": [
    "We need now to work with a scipy-sparse matrix to avoid overflow and wasted memory. For that purpose, we'll use the csr_matrix function from scipy.sparse."
   ]
  },
  {
   "cell_type": "markdown",
   "metadata": {},
   "source": [
    "# 8) Pivot table on User_id & Song_id"
   ]
  },
  {
   "cell_type": "code",
   "execution_count": 37,
   "metadata": {},
   "outputs": [
    {
     "data": {
      "text/html": [
       "<div>\n",
       "<style scoped>\n",
       "    .dataframe tbody tr th:only-of-type {\n",
       "        vertical-align: middle;\n",
       "    }\n",
       "\n",
       "    .dataframe tbody tr th {\n",
       "        vertical-align: top;\n",
       "    }\n",
       "\n",
       "    .dataframe thead th {\n",
       "        text-align: right;\n",
       "    }\n",
       "</style>\n",
       "<table border=\"1\" class=\"dataframe\">\n",
       "  <thead>\n",
       "    <tr style=\"text-align: right;\">\n",
       "      <th>user_id</th>\n",
       "      <th>000ebc858861aca26bac9b49f650ed424cf882fc</th>\n",
       "      <th>000ef25cc955ad5841c915d269432eea41f4a1a5</th>\n",
       "      <th>0012bf75d43a724f62dc746d9e85ae0088a3a1d6</th>\n",
       "      <th>00185e316f07f0f00c325ca034be59c15b362401</th>\n",
       "      <th>001b005fe5e80d3cb45f320f5658fc8e2e72794e</th>\n",
       "      <th>001f22c638730aed5659034c447d3cf0e658898e</th>\n",
       "      <th>002543003041db1d049206b09426d5cdffc0f451</th>\n",
       "      <th>0028292aa536122c1f86fd48a39bd83fe582d27f</th>\n",
       "      <th>00292cf9c6d6e99c5ddbece7e37f957ab1362d25</th>\n",
       "      <th>00296f66ed7fb84c876486aecc9fab2d5809576d</th>\n",
       "      <th>...</th>\n",
       "      <th>ffcfb0b34a47fdf55b3d96c1799cd196677f8261</th>\n",
       "      <th>ffd6f34b343cee62cd7dbbf20fb1ab1119b299e5</th>\n",
       "      <th>ffdaab327f2fc6b9fa01a4e3e7f41fdd0e468046</th>\n",
       "      <th>ffdbaeb5cf2081eb34053a655c20f57524de11ba</th>\n",
       "      <th>ffebfec313fd515a11faba060b022f030b57fac0</th>\n",
       "      <th>fff22417a61c1ba3ee2592b22a052ed6a27a8e91</th>\n",
       "      <th>fff300cd094fe04030b79fae550dc9d065190182</th>\n",
       "      <th>fff543db7918cb8f4f56f7470903eb2f1d5a6dd8</th>\n",
       "      <th>fff6c30c773e6ffafcac213c9afd9666afaf6d63</th>\n",
       "      <th>fffce9c1537fbc350ea68823d956eaa8f5236dbe</th>\n",
       "    </tr>\n",
       "    <tr>\n",
       "      <th>song_id</th>\n",
       "      <th></th>\n",
       "      <th></th>\n",
       "      <th></th>\n",
       "      <th></th>\n",
       "      <th></th>\n",
       "      <th></th>\n",
       "      <th></th>\n",
       "      <th></th>\n",
       "      <th></th>\n",
       "      <th></th>\n",
       "      <th></th>\n",
       "      <th></th>\n",
       "      <th></th>\n",
       "      <th></th>\n",
       "      <th></th>\n",
       "      <th></th>\n",
       "      <th></th>\n",
       "      <th></th>\n",
       "      <th></th>\n",
       "      <th></th>\n",
       "      <th></th>\n",
       "    </tr>\n",
       "  </thead>\n",
       "  <tbody>\n",
       "    <tr>\n",
       "      <th>SOAAAGQ12A8C1420C8</th>\n",
       "      <td>0.0</td>\n",
       "      <td>0.0</td>\n",
       "      <td>0.0</td>\n",
       "      <td>0.0</td>\n",
       "      <td>0.0</td>\n",
       "      <td>0.0</td>\n",
       "      <td>0.0</td>\n",
       "      <td>0.0</td>\n",
       "      <td>0.0</td>\n",
       "      <td>0.0</td>\n",
       "      <td>...</td>\n",
       "      <td>0.0</td>\n",
       "      <td>0.0</td>\n",
       "      <td>0.0</td>\n",
       "      <td>0.0</td>\n",
       "      <td>0.0</td>\n",
       "      <td>0.0</td>\n",
       "      <td>0.0</td>\n",
       "      <td>0.0</td>\n",
       "      <td>0.0</td>\n",
       "      <td>0.0</td>\n",
       "    </tr>\n",
       "    <tr>\n",
       "      <th>SOAACPJ12A81C21360</th>\n",
       "      <td>0.0</td>\n",
       "      <td>0.0</td>\n",
       "      <td>0.0</td>\n",
       "      <td>0.0</td>\n",
       "      <td>0.0</td>\n",
       "      <td>0.0</td>\n",
       "      <td>0.0</td>\n",
       "      <td>0.0</td>\n",
       "      <td>0.0</td>\n",
       "      <td>0.0</td>\n",
       "      <td>...</td>\n",
       "      <td>0.0</td>\n",
       "      <td>0.0</td>\n",
       "      <td>0.0</td>\n",
       "      <td>0.0</td>\n",
       "      <td>0.0</td>\n",
       "      <td>0.0</td>\n",
       "      <td>0.0</td>\n",
       "      <td>0.0</td>\n",
       "      <td>0.0</td>\n",
       "      <td>0.0</td>\n",
       "    </tr>\n",
       "    <tr>\n",
       "      <th>SOAACSG12AB018DC80</th>\n",
       "      <td>0.0</td>\n",
       "      <td>0.0</td>\n",
       "      <td>0.0</td>\n",
       "      <td>0.0</td>\n",
       "      <td>0.0</td>\n",
       "      <td>0.0</td>\n",
       "      <td>0.0</td>\n",
       "      <td>0.0</td>\n",
       "      <td>0.0</td>\n",
       "      <td>0.0</td>\n",
       "      <td>...</td>\n",
       "      <td>0.0</td>\n",
       "      <td>0.0</td>\n",
       "      <td>0.0</td>\n",
       "      <td>0.0</td>\n",
       "      <td>0.0</td>\n",
       "      <td>0.0</td>\n",
       "      <td>0.0</td>\n",
       "      <td>0.0</td>\n",
       "      <td>0.0</td>\n",
       "      <td>0.0</td>\n",
       "    </tr>\n",
       "    <tr>\n",
       "      <th>SOAAEJI12AB0188AB5</th>\n",
       "      <td>0.0</td>\n",
       "      <td>0.0</td>\n",
       "      <td>0.0</td>\n",
       "      <td>0.0</td>\n",
       "      <td>0.0</td>\n",
       "      <td>0.0</td>\n",
       "      <td>0.0</td>\n",
       "      <td>0.0</td>\n",
       "      <td>0.0</td>\n",
       "      <td>0.0</td>\n",
       "      <td>...</td>\n",
       "      <td>0.0</td>\n",
       "      <td>0.0</td>\n",
       "      <td>1.0</td>\n",
       "      <td>0.0</td>\n",
       "      <td>0.0</td>\n",
       "      <td>0.0</td>\n",
       "      <td>0.0</td>\n",
       "      <td>0.0</td>\n",
       "      <td>0.0</td>\n",
       "      <td>0.0</td>\n",
       "    </tr>\n",
       "    <tr>\n",
       "      <th>SOAAFAC12A67ADF7EB</th>\n",
       "      <td>0.0</td>\n",
       "      <td>0.0</td>\n",
       "      <td>0.0</td>\n",
       "      <td>0.0</td>\n",
       "      <td>0.0</td>\n",
       "      <td>0.0</td>\n",
       "      <td>0.0</td>\n",
       "      <td>0.0</td>\n",
       "      <td>0.0</td>\n",
       "      <td>0.0</td>\n",
       "      <td>...</td>\n",
       "      <td>0.0</td>\n",
       "      <td>0.0</td>\n",
       "      <td>0.0</td>\n",
       "      <td>0.0</td>\n",
       "      <td>0.0</td>\n",
       "      <td>0.0</td>\n",
       "      <td>0.0</td>\n",
       "      <td>0.0</td>\n",
       "      <td>0.0</td>\n",
       "      <td>0.0</td>\n",
       "    </tr>\n",
       "  </tbody>\n",
       "</table>\n",
       "<p>5 rows × 19179 columns</p>\n",
       "</div>"
      ],
      "text/plain": [
       "user_id             000ebc858861aca26bac9b49f650ed424cf882fc  \\\n",
       "song_id                                                        \n",
       "SOAAAGQ12A8C1420C8                                       0.0   \n",
       "SOAACPJ12A81C21360                                       0.0   \n",
       "SOAACSG12AB018DC80                                       0.0   \n",
       "SOAAEJI12AB0188AB5                                       0.0   \n",
       "SOAAFAC12A67ADF7EB                                       0.0   \n",
       "\n",
       "user_id             000ef25cc955ad5841c915d269432eea41f4a1a5  \\\n",
       "song_id                                                        \n",
       "SOAAAGQ12A8C1420C8                                       0.0   \n",
       "SOAACPJ12A81C21360                                       0.0   \n",
       "SOAACSG12AB018DC80                                       0.0   \n",
       "SOAAEJI12AB0188AB5                                       0.0   \n",
       "SOAAFAC12A67ADF7EB                                       0.0   \n",
       "\n",
       "user_id             0012bf75d43a724f62dc746d9e85ae0088a3a1d6  \\\n",
       "song_id                                                        \n",
       "SOAAAGQ12A8C1420C8                                       0.0   \n",
       "SOAACPJ12A81C21360                                       0.0   \n",
       "SOAACSG12AB018DC80                                       0.0   \n",
       "SOAAEJI12AB0188AB5                                       0.0   \n",
       "SOAAFAC12A67ADF7EB                                       0.0   \n",
       "\n",
       "user_id             00185e316f07f0f00c325ca034be59c15b362401  \\\n",
       "song_id                                                        \n",
       "SOAAAGQ12A8C1420C8                                       0.0   \n",
       "SOAACPJ12A81C21360                                       0.0   \n",
       "SOAACSG12AB018DC80                                       0.0   \n",
       "SOAAEJI12AB0188AB5                                       0.0   \n",
       "SOAAFAC12A67ADF7EB                                       0.0   \n",
       "\n",
       "user_id             001b005fe5e80d3cb45f320f5658fc8e2e72794e  \\\n",
       "song_id                                                        \n",
       "SOAAAGQ12A8C1420C8                                       0.0   \n",
       "SOAACPJ12A81C21360                                       0.0   \n",
       "SOAACSG12AB018DC80                                       0.0   \n",
       "SOAAEJI12AB0188AB5                                       0.0   \n",
       "SOAAFAC12A67ADF7EB                                       0.0   \n",
       "\n",
       "user_id             001f22c638730aed5659034c447d3cf0e658898e  \\\n",
       "song_id                                                        \n",
       "SOAAAGQ12A8C1420C8                                       0.0   \n",
       "SOAACPJ12A81C21360                                       0.0   \n",
       "SOAACSG12AB018DC80                                       0.0   \n",
       "SOAAEJI12AB0188AB5                                       0.0   \n",
       "SOAAFAC12A67ADF7EB                                       0.0   \n",
       "\n",
       "user_id             002543003041db1d049206b09426d5cdffc0f451  \\\n",
       "song_id                                                        \n",
       "SOAAAGQ12A8C1420C8                                       0.0   \n",
       "SOAACPJ12A81C21360                                       0.0   \n",
       "SOAACSG12AB018DC80                                       0.0   \n",
       "SOAAEJI12AB0188AB5                                       0.0   \n",
       "SOAAFAC12A67ADF7EB                                       0.0   \n",
       "\n",
       "user_id             0028292aa536122c1f86fd48a39bd83fe582d27f  \\\n",
       "song_id                                                        \n",
       "SOAAAGQ12A8C1420C8                                       0.0   \n",
       "SOAACPJ12A81C21360                                       0.0   \n",
       "SOAACSG12AB018DC80                                       0.0   \n",
       "SOAAEJI12AB0188AB5                                       0.0   \n",
       "SOAAFAC12A67ADF7EB                                       0.0   \n",
       "\n",
       "user_id             00292cf9c6d6e99c5ddbece7e37f957ab1362d25  \\\n",
       "song_id                                                        \n",
       "SOAAAGQ12A8C1420C8                                       0.0   \n",
       "SOAACPJ12A81C21360                                       0.0   \n",
       "SOAACSG12AB018DC80                                       0.0   \n",
       "SOAAEJI12AB0188AB5                                       0.0   \n",
       "SOAAFAC12A67ADF7EB                                       0.0   \n",
       "\n",
       "user_id             00296f66ed7fb84c876486aecc9fab2d5809576d  ...  \\\n",
       "song_id                                                       ...   \n",
       "SOAAAGQ12A8C1420C8                                       0.0  ...   \n",
       "SOAACPJ12A81C21360                                       0.0  ...   \n",
       "SOAACSG12AB018DC80                                       0.0  ...   \n",
       "SOAAEJI12AB0188AB5                                       0.0  ...   \n",
       "SOAAFAC12A67ADF7EB                                       0.0  ...   \n",
       "\n",
       "user_id             ffcfb0b34a47fdf55b3d96c1799cd196677f8261  \\\n",
       "song_id                                                        \n",
       "SOAAAGQ12A8C1420C8                                       0.0   \n",
       "SOAACPJ12A81C21360                                       0.0   \n",
       "SOAACSG12AB018DC80                                       0.0   \n",
       "SOAAEJI12AB0188AB5                                       0.0   \n",
       "SOAAFAC12A67ADF7EB                                       0.0   \n",
       "\n",
       "user_id             ffd6f34b343cee62cd7dbbf20fb1ab1119b299e5  \\\n",
       "song_id                                                        \n",
       "SOAAAGQ12A8C1420C8                                       0.0   \n",
       "SOAACPJ12A81C21360                                       0.0   \n",
       "SOAACSG12AB018DC80                                       0.0   \n",
       "SOAAEJI12AB0188AB5                                       0.0   \n",
       "SOAAFAC12A67ADF7EB                                       0.0   \n",
       "\n",
       "user_id             ffdaab327f2fc6b9fa01a4e3e7f41fdd0e468046  \\\n",
       "song_id                                                        \n",
       "SOAAAGQ12A8C1420C8                                       0.0   \n",
       "SOAACPJ12A81C21360                                       0.0   \n",
       "SOAACSG12AB018DC80                                       0.0   \n",
       "SOAAEJI12AB0188AB5                                       1.0   \n",
       "SOAAFAC12A67ADF7EB                                       0.0   \n",
       "\n",
       "user_id             ffdbaeb5cf2081eb34053a655c20f57524de11ba  \\\n",
       "song_id                                                        \n",
       "SOAAAGQ12A8C1420C8                                       0.0   \n",
       "SOAACPJ12A81C21360                                       0.0   \n",
       "SOAACSG12AB018DC80                                       0.0   \n",
       "SOAAEJI12AB0188AB5                                       0.0   \n",
       "SOAAFAC12A67ADF7EB                                       0.0   \n",
       "\n",
       "user_id             ffebfec313fd515a11faba060b022f030b57fac0  \\\n",
       "song_id                                                        \n",
       "SOAAAGQ12A8C1420C8                                       0.0   \n",
       "SOAACPJ12A81C21360                                       0.0   \n",
       "SOAACSG12AB018DC80                                       0.0   \n",
       "SOAAEJI12AB0188AB5                                       0.0   \n",
       "SOAAFAC12A67ADF7EB                                       0.0   \n",
       "\n",
       "user_id             fff22417a61c1ba3ee2592b22a052ed6a27a8e91  \\\n",
       "song_id                                                        \n",
       "SOAAAGQ12A8C1420C8                                       0.0   \n",
       "SOAACPJ12A81C21360                                       0.0   \n",
       "SOAACSG12AB018DC80                                       0.0   \n",
       "SOAAEJI12AB0188AB5                                       0.0   \n",
       "SOAAFAC12A67ADF7EB                                       0.0   \n",
       "\n",
       "user_id             fff300cd094fe04030b79fae550dc9d065190182  \\\n",
       "song_id                                                        \n",
       "SOAAAGQ12A8C1420C8                                       0.0   \n",
       "SOAACPJ12A81C21360                                       0.0   \n",
       "SOAACSG12AB018DC80                                       0.0   \n",
       "SOAAEJI12AB0188AB5                                       0.0   \n",
       "SOAAFAC12A67ADF7EB                                       0.0   \n",
       "\n",
       "user_id             fff543db7918cb8f4f56f7470903eb2f1d5a6dd8  \\\n",
       "song_id                                                        \n",
       "SOAAAGQ12A8C1420C8                                       0.0   \n",
       "SOAACPJ12A81C21360                                       0.0   \n",
       "SOAACSG12AB018DC80                                       0.0   \n",
       "SOAAEJI12AB0188AB5                                       0.0   \n",
       "SOAAFAC12A67ADF7EB                                       0.0   \n",
       "\n",
       "user_id             fff6c30c773e6ffafcac213c9afd9666afaf6d63  \\\n",
       "song_id                                                        \n",
       "SOAAAGQ12A8C1420C8                                       0.0   \n",
       "SOAACPJ12A81C21360                                       0.0   \n",
       "SOAACSG12AB018DC80                                       0.0   \n",
       "SOAAEJI12AB0188AB5                                       0.0   \n",
       "SOAAFAC12A67ADF7EB                                       0.0   \n",
       "\n",
       "user_id             fffce9c1537fbc350ea68823d956eaa8f5236dbe  \n",
       "song_id                                                       \n",
       "SOAAAGQ12A8C1420C8                                       0.0  \n",
       "SOAACPJ12A81C21360                                       0.0  \n",
       "SOAACSG12AB018DC80                                       0.0  \n",
       "SOAAEJI12AB0188AB5                                       0.0  \n",
       "SOAAFAC12A67ADF7EB                                       0.0  \n",
       "\n",
       "[5 rows x 19179 columns]"
      ]
     },
     "execution_count": 37,
     "metadata": {},
     "output_type": "execute_result"
    }
   ],
   "source": [
    "# convert the dataframe into a pivot table\n",
    "df_pivot = df_song_id_more_ten.pivot(index='song_id', columns='user_id', values='listen_count').fillna(0)\n",
    "\n",
    "df_pivot.head()"
   ]
  },
  {
   "cell_type": "markdown",
   "metadata": {},
   "source": [
    "# 9) Sparse Matrix (Compressed Sparse Row)"
   ]
  },
  {
   "cell_type": "code",
   "execution_count": 36,
   "metadata": {},
   "outputs": [
    {
     "name": "stdout",
     "output_type": "stream",
     "text": [
      "  (0, 1013)\t1.0\n",
      "  (0, 1917)\t1.0\n",
      "  (0, 2149)\t5.0\n",
      "  (0, 3882)\t1.0\n",
      "  (0, 4435)\t12.0\n",
      "  (0, 4719)\t5.0\n",
      "  (0, 5013)\t1.0\n",
      "  (0, 5187)\t1.0\n",
      "  (0, 5267)\t20.0\n",
      "  (0, 5395)\t1.0\n",
      "  (0, 8084)\t6.0\n",
      "  (0, 8811)\t1.0\n",
      "  (0, 10425)\t1.0\n",
      "  (0, 10635)\t1.0\n",
      "  (0, 11243)\t1.0\n",
      "  (0, 11462)\t1.0\n",
      "  (0, 11643)\t1.0\n",
      "  (0, 11925)\t1.0\n",
      "  (0, 12755)\t1.0\n",
      "  (0, 15127)\t1.0\n",
      "  (0, 15208)\t2.0\n",
      "  (0, 16053)\t1.0\n",
      "  (0, 18032)\t1.0\n",
      "  (0, 18317)\t2.0\n",
      "  (0, 18522)\t5.0\n",
      "  :\t:\n",
      "  (9999, 5588)\t1.0\n",
      "  (9999, 5826)\t2.0\n",
      "  (9999, 6196)\t1.0\n",
      "  (9999, 7071)\t1.0\n",
      "  (9999, 7195)\t1.0\n",
      "  (9999, 7416)\t5.0\n",
      "  (9999, 7501)\t1.0\n",
      "  (9999, 8673)\t1.0\n",
      "  (9999, 10303)\t1.0\n",
      "  (9999, 10633)\t1.0\n",
      "  (9999, 10752)\t3.0\n",
      "  (9999, 11284)\t1.0\n",
      "  (9999, 11745)\t1.0\n",
      "  (9999, 13484)\t1.0\n",
      "  (9999, 13782)\t2.0\n",
      "  (9999, 13862)\t1.0\n",
      "  (9999, 14495)\t4.0\n",
      "  (9999, 14806)\t1.0\n",
      "  (9999, 15606)\t1.0\n",
      "  (9999, 17160)\t3.0\n",
      "  (9999, 17181)\t6.0\n",
      "  (9999, 17317)\t6.0\n",
      "  (9999, 17735)\t1.0\n",
      "  (9999, 18730)\t2.0\n",
      "  (9999, 18893)\t1.0\n"
     ]
    }
   ],
   "source": [
    "# obtain a sparse matrix\n",
    "df_pivot_matrix = csr_matrix(df_songs_features.values)\n",
    "print(df_pivot_matrix)"
   ]
  },
  {
   "cell_type": "markdown",
   "metadata": {},
   "source": [
    "Because the system will output the id of the song, instead of the title, we'll make a function that maps those indices with the song title."
   ]
  },
  {
   "cell_type": "code",
   "execution_count": 38,
   "metadata": {},
   "outputs": [],
   "source": [
    "df_unique_songs = df_songs.drop_duplicates(subset=['song_id']).reset_index(drop=True)[['song_id', 'title']]"
   ]
  },
  {
   "cell_type": "code",
   "execution_count": 40,
   "metadata": {},
   "outputs": [],
   "source": [
    "decode_id_song = {\n",
    "    song: i for i, song in \n",
    "    enumerate(list(df_unique_songs.set_index('song_id').loc[df_pivot.index].title))\n",
    "}"
   ]
  },
  {
   "cell_type": "markdown",
   "metadata": {},
   "source": [
    "# 10) Matrix of Cosine Similarity"
   ]
  },
  {
   "cell_type": "code",
   "execution_count": 41,
   "metadata": {},
   "outputs": [
    {
     "data": {
      "text/plain": [
       "array([[1.        , 0.01319032, 0.        , ..., 0.        , 0.        ,\n",
       "        0.        ],\n",
       "       [0.01319032, 1.        , 0.        , ..., 0.        , 0.        ,\n",
       "        0.        ],\n",
       "       [0.        , 0.        , 1.        , ..., 0.        , 0.        ,\n",
       "        0.        ],\n",
       "       ...,\n",
       "       [0.        , 0.        , 0.        , ..., 1.        , 0.        ,\n",
       "        0.        ],\n",
       "       [0.        , 0.        , 0.        , ..., 0.        , 1.        ,\n",
       "        0.        ],\n",
       "       [0.        , 0.        , 0.        , ..., 0.        , 0.        ,\n",
       "        1.        ]])"
      ]
     },
     "execution_count": 41,
     "metadata": {},
     "output_type": "execute_result"
    }
   ],
   "source": [
    "similarity_matrix = cosine_similarity(df_pivot)\n",
    "similarity_matrix"
   ]
  },
  {
   "cell_type": "markdown",
   "metadata": {},
   "source": [
    "# 11) Fitting Data into NearestNeighborsModel"
   ]
  },
  {
   "cell_type": "code",
   "execution_count": 42,
   "metadata": {},
   "outputs": [
    {
     "data": {
      "text/plain": [
       "NearestNeighbors(metric='cosine', n_neighbors=20, radius=1)"
      ]
     },
     "execution_count": 42,
     "metadata": {},
     "output_type": "execute_result"
    }
   ],
   "source": [
    "from sklearn.neighbors import NearestNeighbors\n",
    "\n",
    "model_knn = NearestNeighbors(metric = 'cosine', n_neighbors=20, radius=1)\n",
    "model_knn.fit(df_pivot_matrix)"
   ]
  },
  {
   "cell_type": "markdown",
   "metadata": {},
   "source": [
    "# 12) Building Recommendation System "
   ]
  },
  {
   "cell_type": "code",
   "execution_count": 47,
   "metadata": {},
   "outputs": [],
   "source": [
    "def findRecomendations(model, matrix, query_index):\n",
    "    distances, indices = model.kneighbors([matrix.iloc[query_index, :]], n_neighbors = 10)\n",
    "    for i in range(0, len(distances.flatten())):\n",
    "        if i == 0:\n",
    "            rowDetails=df_songs.loc[df_songs['song_id'] == matrix.index[query_index]]\n",
    "            print(\"Song: \", rowDetails.title.values[0], \", Artist: \",  rowDetails.artist_name.values[0] )\n",
    "       \n",
    "        else:\n",
    "            rowDetails = df_songs.loc[df_songs['song_id'] == matrix.index[indices.flatten()[i]] ]\n",
    "            print(\" Recommendation\", i, \": \")\n",
    "            print(\"   Song: \", rowDetails.title.values[0])  \n",
    "            print(\"   Artist: \",  rowDetails.artist_name.values[0])\n",
    "            print(\"   Distance: \", distances.flatten()[i])"
   ]
  },
  {
   "cell_type": "code",
   "execution_count": 67,
   "metadata": {},
   "outputs": [],
   "source": [
    "query_index = np.random.choice(df_pivot.shape[0])\n",
    "query_index\n",
    "query_index = 1000"
   ]
  },
  {
   "cell_type": "code",
   "execution_count": 68,
   "metadata": {},
   "outputs": [
    {
     "name": "stdout",
     "output_type": "stream",
     "text": [
      "[[8.88178420e-16 2.54854806e-01 4.36555575e-01 4.53209934e-01\n",
      "  4.57617398e-01 4.98731367e-01 5.46759531e-01 5.56802355e-01\n",
      "  5.64142026e-01 5.64232031e-01]]\n",
      "[[1000 4595 8408 8393  144 3710 8986 8331 6263   17]]\n"
     ]
    }
   ],
   "source": [
    "distances, indices = model_knn.kneighbors([df_pivot.iloc[query_index, :]], n_neighbors = 10)\n",
    "print(distances)\n",
    "print(indices)"
   ]
  },
  {
   "cell_type": "code",
   "execution_count": 69,
   "metadata": {},
   "outputs": [
    {
     "name": "stdout",
     "output_type": "stream",
     "text": [
      "Song:  Conspiracy (Album Version) , Artist:  Paramore\n",
      " Recommendation 1 : \n",
      "   Song:  Franklin (Album Version)\n",
      "   Artist:  Paramore\n",
      "   Distance:  0.2548548058758491\n",
      " Recommendation 2 : \n",
      "   Song:  All We Know (Album Version)\n",
      "   Artist:  Paramore\n",
      "   Distance:  0.43655557452452987\n",
      " Recommendation 3 : \n",
      "   Song:  Whoa (Album Version)\n",
      "   Artist:  Paramore\n",
      "   Distance:  0.45320993447098434\n",
      " Recommendation 4 : \n",
      "   Song:  When It Rains (Album Version)\n",
      "   Artist:  Paramore\n",
      "   Distance:  0.4576173981035182\n",
      " Recommendation 5 : \n",
      "   Song:  Emergency (Album Version)\n",
      "   Artist:  Paramore\n",
      "   Distance:  0.4987313667064892\n",
      " Recommendation 6 : \n",
      "   Song:  My Heart (Album Version)\n",
      "   Artist:  Paramore\n",
      "   Distance:  0.5467595309957625\n",
      " Recommendation 7 : \n",
      "   Song:  Let The Flames Begin (Album Version)\n",
      "   Artist:  Paramore\n",
      "   Distance:  0.5568023551083382\n",
      " Recommendation 8 : \n",
      "   Song:  Here We Go Again (Album Version)\n",
      "   Artist:  Paramore\n",
      "   Distance:  0.5641420259054202\n",
      " Recommendation 9 : \n",
      "   Song:  Hallelujah (Album Version)\n",
      "   Artist:  Paramore\n",
      "   Distance:  0.5642320312758027\n"
     ]
    }
   ],
   "source": [
    "findRecomendations(model_knn, df_pivot, query_index)"
   ]
  }
 ],
 "metadata": {
  "kernelspec": {
   "display_name": "Python 3",
   "language": "python",
   "name": "python3"
  },
  "language_info": {
   "codemirror_mode": {
    "name": "ipython",
    "version": 3
   },
   "file_extension": ".py",
   "mimetype": "text/x-python",
   "name": "python",
   "nbconvert_exporter": "python",
   "pygments_lexer": "ipython3",
   "version": "3.8.5"
  }
 },
 "nbformat": 4,
 "nbformat_minor": 4
}
